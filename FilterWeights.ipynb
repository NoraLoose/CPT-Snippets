{
 "cells": [
  {
   "cell_type": "markdown",
   "metadata": {},
   "source": [
    "This notebook sets up a method to compute filter weights.\n",
    "\n",
    "The idea is that you have a vector of values with some grid spacing.\n",
    "You want to filter to get the part of the vector that is 'resolvable' on a coarser grid, with grid spacing $x$\n",
    "times bigger than the grid of the data. For example if the data is spaced 50 km and you want to filter in a way that produces something relevant to a model with 150 km grid spacing, then $x=150/50 = 3$.\n",
    "\n",
    "The filter is a moving average: you multiply the $n$ entries above and below (or to the left and right if you prefer) the current point (and the current point) by some weights that sum to one, which gives you a weighted average at the current point; then you do this weighted average over all the points.\n",
    "The weights are symmetric left and right (up and down), and the vector of weights has length $2n+1$.\n",
    "\n",
    "The most obvious thing to do is to do a moving average with width $2x+1$ where all the weights are equal.\n",
    "Another thing you could try is a Gaussian moving average.\n",
    "It's not as clear how to choose the width of the Gaussian, but you might let the weights be proportional to $e^{-0.5(d/x)^2}$ where $d$ is the distance to the central point. \n",
    "You'd probably want something like $n=3x$ or $n=4x$ and then just set weights for points further away to zero.\n",
    "This is OK because the weights further away, while technically not zero, would be smaller than machine precision.\n",
    "\n",
    "Another thing you could try (which I've done here) is try to design the filter weights so that the filter is spectrally sharp: it chooses some cutoff wavelength and zeros out smaller scales while leaving larger scales unchanged.\n",
    "The following code uses a coarsening factor $x$ and a filter radius $n$ (width is $2n+1$) to generate weights corresponding to a \"sharp\" filter."
   ]
  },
  {
   "cell_type": "code",
   "execution_count": 1,
   "metadata": {},
   "outputs": [],
   "source": [
    "import numpy as np\n",
    "from scipy import interpolate\n",
    "from scipy import integrate\n",
    "import matplotlib.pyplot as plt\n",
    "x = 2; # example coarsening factor\n",
    "F = interpolate.PchipInterpolator(np.array([0,1/x,np.pi/x,np.pi]),np.array([1,1,0,0]))"
   ]
  },
  {
   "cell_type": "markdown",
   "metadata": {},
   "source": [
    "The above snippet defines $F$ to be a piecewise cubic polynomial. The arguments are wavenumbers, with $\\pi$ representing the Nyquist wavenumber, i.e. the smallest resolvable scale on the grid.\n",
    "The values of $F$ are the values of the Fourier transform of the target/ideal filter.\n",
    "Coarsening by a factor of $x$ means that wavenumbers larger than $\\pi/x$ should be zeroed out.\n",
    "We're tentatively saying (see Bar & Prime document) that there is a factor of 3 between the grid scale of a model and the resolvable scale, so $F$ smoothly transitions from 0 to 1 over the corresponding range of wavenumbers.\n",
    "See plot below."
   ]
  },
  {
   "cell_type": "code",
   "execution_count": 2,
   "metadata": {},
   "outputs": [
    {
     "data": {
      "text/plain": [
       "[<matplotlib.lines.Line2D at 0x7f6b9ab30f90>]"
      ]
     },
     "execution_count": 2,
     "metadata": {},
     "output_type": "execute_result"
    },
    {
     "data": {
      "image/png": "[encoded data removed]",
      "text/plain": [
       "<Figure size 432x288 with 1 Axes>"
      ]
     },
     "metadata": {
      "needs_background": "light"
     },
     "output_type": "display_data"
    }
   ],
   "source": [
    "%matplotlib inline\n",
    "plt.plot(np.array(F(np.linspace(0,np.pi,num=101))))"
   ]
  },
  {
   "cell_type": "markdown",
   "metadata": {},
   "source": [
    "The next step is to generate weights that correspond (approximately) to this target/ideal filter. I won't explain the following function in this notebook."
   ]
  },
  {
   "cell_type": "code",
   "execution_count": 4,
   "metadata": {},
   "outputs": [],
   "source": [
    "def getWeights(n):\n",
    "    w = np.zeros(n+1) # initialize weights\n",
    "    for i in range(n):\n",
    "        integrand = lambda k: 2*(F(k)-1)*(np.cos((i+1)*k)-1)\n",
    "        w[i] = integrate.quad(integrand,0,np.pi)[0]\n",
    "    A = 2*np.pi*(np.eye(n) + 2)\n",
    "    w[1:] = np.linalg.solve(A,w[0:n])\n",
    "    w[0] = 1 - 2*np.sum(w[1:])\n",
    "    return w"
   ]
  },
  {
   "cell_type": "markdown",
   "metadata": {},
   "source": [
    "With this function it's a good idea to make sure that you've picked a wide enough filter, i.e. a large enough $n$. To do this, first set the coarsening factor then just keep increasing $n$ until the weights stop changing. For a factor of $x=2$ you don't need a very wide filter:"
   ]
  },
  {
   "cell_type": "code",
   "execution_count": 5,
   "metadata": {},
   "outputs": [
    {
     "name": "stdout",
     "output_type": "stream",
     "text": [
      "[0.37571851 0.31214075]\n",
      "[0.30754255 0.24396479 0.10226393]\n",
      "[ 0.31301783  0.24944007  0.10773921 -0.0136882 ]\n",
      "[ 0.32578116  0.2622034   0.12050254 -0.00092488 -0.04467163]\n",
      "[ 0.33106922  0.26749146  0.1257906   0.00436318 -0.03938357 -0.02379628]\n",
      "[ 0.33100344  0.26742568  0.12572483  0.00429741 -0.03944935 -0.02386205\n",
      "  0.00036176]\n"
     ]
    }
   ],
   "source": [
    "print(getWeights(1))\n",
    "print(getWeights(2))\n",
    "print(getWeights(3))\n",
    "print(getWeights(4))\n",
    "print(getWeights(5))\n",
    "print(getWeights(6))"
   ]
  },
  {
   "cell_type": "markdown",
   "metadata": {},
   "source": [
    "The above example shows that a filter width of $2n+1=9$ or $11$ is probably enough to make sure that your filter corresponds to a model with grid size $2\\times$ bigger than the size of your data. It's kind of surprising that it needs that much, but on the other hand in the Gaussian example if $x=2$ then we might want 4 standard deviations on either side, which comes to a width of 9 points as well.\n",
    "\n",
    "Larger coarsening factors require wider filters.\n",
    "For example, to coarsen by a factor of 8 requires at least $n=16$:"
   ]
  },
  {
   "cell_type": "code",
   "execution_count": 12,
   "metadata": {},
   "outputs": [
    {
     "data": {
      "text/plain": [
       "[<matplotlib.lines.Line2D at 0x7f6b9a7bab50>]"
      ]
     },
     "execution_count": 12,
     "metadata": {},
     "output_type": "execute_result"
    },
    {
     "data": {
      "image/png": "[encoded data removed]",
      "text/plain": [
       "<Figure size 432x288 with 1 Axes>"
      ]
     },
     "metadata": {
      "needs_background": "light"
     },
     "output_type": "display_data"
    }
   ],
   "source": [
    "x = 8; # update coarsening factor\n",
    "F = interpolate.PchipInterpolator(np.array([0,1/x,np.pi/x,np.pi]),np.array([1,1,0,0])) # Update target filter\n",
    "plt.plot(getWeights(8))\n",
    "plt.plot(getWeights(16))\n",
    "plt.plot(getWeights(24))\n",
    "plt.plot(getWeights(32))"
   ]
  }
 ],
 "metadata": {
  "kernelspec": {
   "display_name": "Python 3",
   "language": "python",
   "name": "python3"
  },
  "language_info": {
   "codemirror_mode": {
    "name": "ipython",
    "version": 3
   },
   "file_extension": ".py",
   "mimetype": "text/x-python",
   "name": "python",
   "nbconvert_exporter": "python",
   "pygments_lexer": "ipython3",
   "version": "3.7.7"
  }
 },
 "nbformat": 4,
 "nbformat_minor": 4
}
